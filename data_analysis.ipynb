{
 "cells": [
  {
   "cell_type": "markdown",
   "metadata": {
    "cell_id": "1b41ef76f3994f1c9d1555a631304bbb",
    "deepnote_cell_type": "text-cell-h1",
    "formattedRanges": []
   },
   "source": [
    "# Imports"
   ]
  },
  {
   "cell_type": "code",
   "execution_count": 1,
   "metadata": {
    "cell_id": "8bcd22e8ae5d4206a0dd8c3db9889069",
    "deepnote_cell_type": "code",
    "execution_context_id": "37f26dc3-b74d-4996-9829-fde0042c92ef",
    "execution_millis": 1168,
    "execution_start": 1747007827102,
    "source_hash": "51544f20"
   },
   "outputs": [],
   "source": [
    "import pandas as pd\n",
    "import numpy as np\n",
    "\n",
    "import matplotlib.pyplot as plt\n",
    "import seaborn as sns"
   ]
  },
  {
   "cell_type": "markdown",
   "metadata": {
    "cell_id": "5934743cecb94a309dc5d8534cfc8af2",
    "deepnote_cell_type": "text-cell-h2",
    "formattedRanges": []
   },
   "source": [
    "## Data Analysis"
   ]
  },
  {
   "cell_type": "markdown",
   "metadata": {
    "cell_id": "68bfae0911d64864acb746e67db93331",
    "deepnote_cell_type": "text-cell-p",
    "formattedRanges": []
   },
   "source": [
    "This section of feature selection was done in the data_preprocessing notebook, but because it doesn't take too long to retrieve the features dictionary, we re-added it in this analysis."
   ]
  },
  {
   "cell_type": "markdown",
   "metadata": {
    "cell_id": "6b9b369e53c74c2888112091c1c68bab",
    "deepnote_cell_type": "text-cell-p",
    "formattedRanges": []
   },
   "source": [
    "Used LASSO regression to select features. "
   ]
  },
  {
   "cell_type": "markdown",
   "metadata": {
    "cell_id": "8e3c80e9c23c4b6bad2746bd1b0b9338",
    "deepnote_cell_type": "text-cell-p",
    "formattedRanges": []
   },
   "source": [
    "Retrospectively, this may not be necessary, as we apply GridSearchCV later across L1, L2, and Elasticnet penalties, meaning the GridSearch would automatically feature select using L1 based on cross-validated accuracy."
   ]
  },
  {
   "cell_type": "markdown",
   "metadata": {
    "cell_id": "88335637136f4d0c95308de438cf05e5",
    "deepnote_cell_type": "text-cell-p",
    "formattedRanges": []
   },
   "source": [
    "Still, it can speed up computation time by initially getting rid of seemingly useless features."
   ]
  },
  {
   "cell_type": "code",
   "execution_count": 8,
   "metadata": {
    "cell_id": "492cb52a590a41668616baeb7cd07676",
    "deepnote_cell_type": "code",
    "execution_context_id": "37f26dc3-b74d-4996-9829-fde0042c92ef",
    "execution_millis": 374,
    "execution_start": 1747007829032,
    "source_hash": "ca548c13"
   },
   "outputs": [],
   "source": [
    "X_train_full = pd.read_csv('X_train_full.csv')\n",
    "X_test_full = pd.read_csv('X_test_full.csv')\n",
    "y_train_bin = pd.read_csv('y_train_bin.csv')['is_obese']\n",
    "y_test_bin = pd.read_csv('y_test_bin.csv')['is_obese']\n",
    "y_test_multi = pd.read_csv('y_test_multi.csv')['obesity_category']\n",
    "y_train_multi = pd.read_csv('y_train_multi.csv')['obesity_category']"
   ]
  },
  {
   "cell_type": "code",
   "execution_count": 10,
   "metadata": {
    "cell_id": "d015f674aa9f4f0aaa160e15f8a564bd",
    "deepnote_cell_type": "code",
    "execution_context_id": "37f26dc3-b74d-4996-9829-fde0042c92ef",
    "execution_millis": 41,
    "execution_start": 1747007829452,
    "source_hash": "af35732f"
   },
   "outputs": [],
   "source": [
    "from sklearn.linear_model import LogisticRegression"
   ]
  },
  {
   "cell_type": "code",
   "execution_count": 11,
   "metadata": {
    "cell_id": "793cb97ad22940019d5ef3cc2e5e9035",
    "deepnote_cell_type": "code",
    "execution_context_id": "37f26dc3-b74d-4996-9829-fde0042c92ef",
    "execution_millis": 34110,
    "execution_start": 1747007829542,
    "source_hash": "3eada595"
   },
   "outputs": [
    {
     "name": "stderr",
     "output_type": "stream",
     "text": [
      "/opt/anaconda3/lib/python3.12/site-packages/sklearn/linear_model/_logistic.py:1247: FutureWarning: 'multi_class' was deprecated in version 1.5 and will be removed in 1.7. From then on, it will always use 'multinomial'. Leave it to its default value to avoid this warning.\n",
      "  warnings.warn(\n",
      "/opt/anaconda3/lib/python3.12/site-packages/sklearn/linear_model/_logistic.py:1247: FutureWarning: 'multi_class' was deprecated in version 1.5 and will be removed in 1.7. From then on, it will always use 'multinomial'. Leave it to its default value to avoid this warning.\n",
      "  warnings.warn(\n",
      "/opt/anaconda3/lib/python3.12/site-packages/sklearn/linear_model/_logistic.py:1247: FutureWarning: 'multi_class' was deprecated in version 1.5 and will be removed in 1.7. From then on, it will always use 'multinomial'. Leave it to its default value to avoid this warning.\n",
      "  warnings.warn(\n"
     ]
    }
   ],
   "source": [
    "c_arr = [0.1, 1, 10]\n",
    "\n",
    "features_dict = {}\n",
    "\n",
    "# For each regularization strength, apply LASSO and retrieve non-zero features\n",
    "for C in c_arr:\n",
    "    lr = LogisticRegression(penalty=\"l1\", solver=\"saga\", C=C, multi_class=\"multinomial\", max_iter=10000)\n",
    "    lr.fit(X_train_full, y_train_multi)\n",
    "\n",
    "    features_dict[C] = X_train_full.columns[lr.coef_[0] != 0]"
   ]
  },
  {
   "cell_type": "code",
   "execution_count": 13,
   "metadata": {
    "cell_id": "64088b49bdbd4d0898833177693c3fec",
    "deepnote_cell_type": "code",
    "execution_context_id": "37f26dc3-b74d-4996-9829-fde0042c92ef",
    "execution_millis": 1,
    "execution_start": 1747007863702,
    "source_hash": "a7a35486"
   },
   "outputs": [
    {
     "data": {
      "text/plain": [
       "{0.1: Index(['FCVC^2', 'FCVC NCP', 'FCVC CH2O', 'NCP FAF', 'NCP TUE', 'log1p_Age',\n",
       "        'log1p_Weight', 'exp_NCP', 'Gender_Male', 'CAEC_Frequently'],\n",
       "       dtype='object'),\n",
       " 1: Index(['Age', 'Weight', 'Age^2', 'Age Weight', 'FCVC^2', 'FCVC CH2O',\n",
       "        'FCVC FAF', 'FCVC TUE', 'FCVC Weight', 'NCP FAF', 'NCP TUE',\n",
       "        'NCP Weight', 'CH2O FAF', 'CH2O TUE', 'TUE^2', 'log1p_FCVC',\n",
       "        'log1p_CH2O', 'log1p_TUE', 'log1p_Weight', 'exp_FCVC', 'exp_CH2O',\n",
       "        'exp_FAF', 'Gender_Male', 'FAVC_yes', 'CAEC_Frequently',\n",
       "        'CAEC_Sometimes', 'SCC_yes', 'CALC_Frequently',\n",
       "        'MTRANS_Public_Transportation'],\n",
       "       dtype='object'),\n",
       " 10: Index(['Age', 'Weight', 'FAF', 'TUE', 'Age^2', 'Age FCVC', 'Age NCP',\n",
       "        'Age CH2O', 'Age FAF', 'Age Weight', 'FCVC^2', 'FCVC NCP', 'FCVC CH2O',\n",
       "        'FCVC FAF', 'FCVC TUE', 'FCVC Weight', 'NCP^2', 'NCP CH2O', 'NCP FAF',\n",
       "        'NCP TUE', 'NCP Weight', 'CH2O^2', 'CH2O FAF', 'CH2O TUE',\n",
       "        'CH2O Weight', 'FAF^2', 'FAF TUE', 'FAF Weight', 'TUE^2', 'TUE Weight',\n",
       "        'log1p_Age', 'log1p_FCVC', 'log1p_NCP', 'log1p_CH2O', 'log1p_FAF',\n",
       "        'log1p_TUE', 'log1p_Weight', 'exp_NCP', 'exp_FAF', 'Gender_Male',\n",
       "        'family_history_with_overweight_yes', 'FAVC_yes', 'CAEC_Frequently',\n",
       "        'CAEC_Sometimes', 'CAEC_no', 'SMOKE_yes', 'SCC_yes', 'CALC_Frequently',\n",
       "        'CALC_Sometimes', 'CALC_no', 'MTRANS_Bike', 'MTRANS_Motorbike',\n",
       "        'MTRANS_Public_Transportation', 'MTRANS_Walking'],\n",
       "       dtype='object')}"
      ]
     },
     "execution_count": 13,
     "metadata": {},
     "output_type": "execute_result"
    }
   ],
   "source": [
    "# 0.1 = strongest regularization, most minimal set of features\n",
    "# 1 = second strongest regularization, moderate set of features\n",
    "# 10 = least regularization, most features\n",
    "\n",
    "features_dict"
   ]
  },
  {
   "cell_type": "markdown",
   "metadata": {
    "cell_id": "492d749486504a37b88f30d97f966071",
    "deepnote_cell_type": "text-cell-h1",
    "formattedRanges": []
   },
   "source": [
    "# Regressions"
   ]
  },
  {
   "cell_type": "code",
   "execution_count": 15,
   "metadata": {
    "cell_id": "a37383c43a284541bc45c3355b4c5c36",
    "deepnote_cell_type": "code",
    "execution_context_id": "37f26dc3-b74d-4996-9829-fde0042c92ef",
    "execution_millis": 1,
    "execution_start": 1747007863762,
    "source_hash": "c23484af"
   },
   "outputs": [],
   "source": [
    "from sklearn.model_selection import cross_val_score\n",
    "from sklearn.metrics import make_scorer, accuracy_score\n",
    "from sklearn.model_selection import GridSearchCV"
   ]
  },
  {
   "cell_type": "markdown",
   "metadata": {
    "cell_id": "4eace35ec6284c88887d57f5abc6209f",
    "deepnote_app_block_visible": false,
    "deepnote_cell_type": "text-cell-h2",
    "formattedRanges": [],
    "is_collapsed": false
   },
   "source": [
    "## Logistic Regression"
   ]
  },
  {
   "cell_type": "markdown",
   "metadata": {
    "cell_id": "3c1a55fc218e425aa3d80a4d1317f583",
    "deepnote_app_block_visible": false,
    "deepnote_cell_type": "text-cell-h3",
    "formattedRanges": [],
    "is_collapsed": false
   },
   "source": [
    "### Not Regularized"
   ]
  },
  {
   "cell_type": "markdown",
   "metadata": {
    "cell_id": "2f440067745f49419a7bb26e05ef7c35",
    "deepnote_cell_type": "text-cell-p",
    "formattedRanges": []
   },
   "source": [
    "We use 5-fold cross validation to generated cross-validated accuracies for each possible set of features."
   ]
  },
  {
   "cell_type": "markdown",
   "metadata": {
    "cell_id": "2c2938d8e25d4ef68ef414c46aa2882a",
    "deepnote_cell_type": "text-cell-p",
    "formattedRanges": []
   },
   "source": [
    "Using 5-fold cross validation is also consistent with how we conduct GridSearch, allowing us to see the improvement finding optimal (over the grid) regularization parameters has on the model. "
   ]
  },
  {
   "cell_type": "markdown",
   "metadata": {
    "cell_id": "91a49b0dec8f4eab83c797ff5b17ccfa",
    "deepnote_cell_type": "text-cell-p",
    "formattedRanges": []
   },
   "source": [
    "For example, for \"C used for feature selection: 1\", the CV accuracy goes from ~0.948 to ~0.951 - this increase should be attributable to the regularization parameters chosen by GridSearch, since we use the same evaluation protocol for unregularized and regularized. When rerunning this multiple times, the CV accuracy has changed, but the general trend is that the CV accuracy when C increases."
   ]
  },
  {
   "cell_type": "code",
   "execution_count": 21,
   "metadata": {
    "cell_id": "73cc4fe750164a528c7cd88408319196",
    "deepnote_cell_type": "code",
    "execution_context_id": "37f26dc3-b74d-4996-9829-fde0042c92ef",
    "execution_millis": 5865,
    "execution_start": 1747007863822,
    "source_hash": "d5fbaa47"
   },
   "outputs": [
    {
     "name": "stdout",
     "output_type": "stream",
     "text": [
      "C used for feature selection: 0.1\n",
      "CV accuracy: 0.9407599248503151\n",
      "\n",
      "C used for feature selection: 1\n",
      "CV accuracy: 0.9460871244710551\n",
      "\n",
      "C used for feature selection: 10\n",
      "CV accuracy: 0.9496461994978315\n",
      "\n"
     ]
    }
   ],
   "source": [
    "cv_scores = {}\n",
    "\n",
    "for c, features in features_dict.items():\n",
    "    lr = LogisticRegression(max_iter=100000)\n",
    "\n",
    "    scores = cross_val_score(\n",
    "        lr,\n",
    "        X_train_full[features],\n",
    "        y_train_bin,\n",
    "        cv=5,\n",
    "        scoring=make_scorer(accuracy_score)\n",
    "    )\n",
    "\n",
    "    cv_scores[c] = scores\n",
    "\n",
    "    print(f\"C used for feature selection: {c}\")\n",
    "    print(f\"CV accuracy: {np.mean(scores)}\\n\")\n"
   ]
  },
  {
   "cell_type": "markdown",
   "metadata": {
    "cell_id": "e6a7e5d31a6c42fbba25e76cbee245fe",
    "deepnote_cell_type": "text-cell-p",
    "formattedRanges": []
   },
   "source": [
    "From the above, for unregularized multinomial logistic regression, using the largest set of features gives the greatest validation accuracy."
   ]
  },
  {
   "cell_type": "markdown",
   "metadata": {
    "cell_id": "6d2dfe85abde400f9d08e81e98d1d2da",
    "deepnote_cell_type": "text-cell-h3",
    "formattedRanges": []
   },
   "source": [
    "### Regularization Gridsearch"
   ]
  },
  {
   "cell_type": "markdown",
   "metadata": {
    "cell_id": "5da1764b1ba3415087854f67e8e7a26b",
    "deepnote_cell_type": "text-cell-p",
    "formattedRanges": []
   },
   "source": [
    "Note that we use \"saga\" solver because it has support for all penalty types (and multinomial logistic regression as well). "
   ]
  },
  {
   "cell_type": "markdown",
   "metadata": {
    "cell_id": "9a1b64b8506c41c4a84ea7688808fca1",
    "deepnote_cell_type": "text-cell-p",
    "formattedRanges": []
   },
   "source": [
    "\"sag\" and \"saga\" solvers only guaranteed to converge with features with the same scale according to scikit-learn documentation. This is accounted for during our pre-processing stage."
   ]
  },
  {
   "cell_type": "markdown",
   "metadata": {
    "cell_id": "44f64c68bfe6401d8f9b03ec0121fcff",
    "deepnote_cell_type": "text-cell-p",
    "formattedRanges": []
   },
   "source": [
    "GridSearch goes over all possible combinations of features provided in the parameter grid and outputs the one with the highest 5-fold cross-validation accuracy."
   ]
  },
  {
   "cell_type": "code",
   "execution_count": 27,
   "metadata": {
    "cell_id": "28cc0d73a920493c93bec4e25ba9db98",
    "deepnote_cell_type": "code",
    "execution_context_id": "37f26dc3-b74d-4996-9829-fde0042c92ef",
    "execution_millis": 129020,
    "execution_start": 1747007869752,
    "source_hash": "e65ffe19"
   },
   "outputs": [
    {
     "name": "stdout",
     "output_type": "stream",
     "text": [
      "C used for feature selection:  0.1\n",
      "{'C': 1, 'l1_ratio': 0.25, 'penalty': 'elasticnet', 'solver': 'saga'}\n",
      "0.9419451126367356 \n",
      "\n",
      "C used for feature selection:  1\n",
      "{'C': 10, 'penalty': 'l1', 'solver': 'saga'}\n",
      "0.9520130634031571 \n",
      "\n",
      "C used for feature selection:  10\n",
      "{'C': 1, 'l1_ratio': 0.75, 'penalty': 'elasticnet', 'solver': 'saga'}\n",
      "0.9526100468807612 \n",
      "\n"
     ]
    }
   ],
   "source": [
    "# NOTE: Runtime for this cell > 2 minutes.\n",
    "# Outputs in markdown below for reproducibility of optimal models\n",
    "\n",
    "param_grid = [\n",
    "    {\n",
    "        'penalty': ['l1'],\n",
    "        'C': [0.01, 0.1, 1, 10],\n",
    "        'solver': ['saga'],\n",
    "    },\n",
    "    {\n",
    "        'penalty': ['l2'],\n",
    "        'C': [0.01, 0.1, 1, 10],\n",
    "        'solver': ['saga'],\n",
    "    },\n",
    "    {\n",
    "        'penalty': ['elasticnet'],\n",
    "        'C': [0.01, 0.1, 1, 10],\n",
    "        'l1_ratio': [0.25, 0.5, 0.75],\n",
    "        'solver': ['saga'],\n",
    "    }\n",
    "]\n",
    "\n",
    "binary_grid_dict = {}\n",
    "\n",
    "for c, features in features_dict.items():\n",
    "    model = LogisticRegression(max_iter=100000, solver=\"saga\")\n",
    "    grid = GridSearchCV(model, param_grid, cv=5)\n",
    "    grid.fit(X_train_full[features], y_train_bin)\n",
    "\n",
    "    binary_grid_dict[c] = grid\n",
    "\n",
    "    print(\"C used for feature selection: \", c)\n",
    "    print(grid.best_params_)\n",
    "    print(grid.best_score_, \"\\n\")"
   ]
  },
  {
   "cell_type": "markdown",
   "metadata": {
    "cell_id": "34d6c595b1864c128df6e80d5153f7a3",
    "deepnote_cell_type": "text-cell-p",
    "formattedRanges": []
   },
   "source": [
    "C used for feature selection:  0.1\n",
    "{'C': 1, 'l1_ratio': 0.25, 'penalty': 'elasticnet', 'solver': 'saga'}\n",
    "0.9419451126367356 "
   ]
  },
  {
   "cell_type": "markdown",
   "metadata": {
    "cell_id": "8e90817bea8f4f6290f837a6f4bcf4df",
    "deepnote_cell_type": "text-cell-p",
    "formattedRanges": []
   },
   "source": [
    "C used for feature selection:  1\n",
    "{'C': 10, 'penalty': 'l1', 'solver': 'saga'}\n",
    "0.9520130634031571 "
   ]
  },
  {
   "cell_type": "markdown",
   "metadata": {
    "cell_id": "cb0b0477e17b4a768c4bca4587bf876c",
    "deepnote_cell_type": "text-cell-p",
    "formattedRanges": []
   },
   "source": [
    "C used for feature selection:  10\n",
    "{'C': 1, 'l1_ratio': 0.75, 'penalty': 'elasticnet', 'solver': 'saga'}\n",
    "0.9526100468807612 "
   ]
  },
  {
   "cell_type": "markdown",
   "metadata": {
    "cell_id": "5646a6985c694af6ad07c5c1ebfb7182",
    "deepnote_cell_type": "text-cell-p",
    "formattedRanges": [
     {
      "fromCodePoint": 0,
      "marks": {
       "bold": true,
       "underline": true
      },
      "toCodePoint": 124,
      "type": "marks"
     }
    ]
   },
   "source": [
    "Optimal parameters: C used for feature selection:  10, {'C': 1, 'l1_ratio': 0.75, 'penalty': 'elasticnet', 'solver': 'saga'}"
   ]
  },
  {
   "cell_type": "markdown",
   "metadata": {
    "cell_id": "8e412f4b69e941f7bc22807f1ab39e5e",
    "deepnote_app_block_visible": false,
    "deepnote_cell_type": "text-cell-h2",
    "formattedRanges": [],
    "is_collapsed": false
   },
   "source": [
    "## Multinomial Regression"
   ]
  },
  {
   "cell_type": "markdown",
   "metadata": {
    "cell_id": "747e8ba281c34feb96962cc14202bf48",
    "deepnote_app_block_visible": false,
    "deepnote_cell_type": "text-cell-h3",
    "formattedRanges": [],
    "is_collapsed": false
   },
   "source": [
    "### Not Regularized"
   ]
  },
  {
   "cell_type": "code",
   "execution_count": 34,
   "metadata": {
    "cell_id": "6d9d977d7de74cc1995c25853a28b4ff",
    "deepnote_cell_type": "code",
    "execution_context_id": "37f26dc3-b74d-4996-9829-fde0042c92ef",
    "execution_millis": 119070,
    "execution_start": 1747007998822,
    "source_hash": "411c2e4c"
   },
   "outputs": [
    {
     "name": "stdout",
     "output_type": "stream",
     "text": [
      "C used for feature selection: 0.1\n",
      "CV accuracy: 0.7802293118887504\n",
      "\n",
      "C used for feature selection: 1\n",
      "CV accuracy: 0.8264393447228416\n",
      "\n",
      "C used for feature selection: 10\n",
      "CV accuracy: 0.8429986128913315\n",
      "\n"
     ]
    }
   ],
   "source": [
    "# NOTE: Runtime for this cell > 5 minutes.\n",
    "# Outputs in markdown below for reproducibility of optimal models\n",
    "cv_scores = {}\n",
    "\n",
    "for c, features in features_dict.items():\n",
    "    lr = LogisticRegression(max_iter=100000, solver = 'saga')\n",
    "\n",
    "    scores = cross_val_score(\n",
    "        lr,\n",
    "        X_train_full[features],\n",
    "        y_train_multi,\n",
    "        cv=5,\n",
    "        scoring=make_scorer(accuracy_score)\n",
    "    )\n",
    "\n",
    "    cv_scores[c] = scores\n",
    "\n",
    "    print(f\"C used for feature selection: {c}\")\n",
    "    print(f\"CV accuracy: {np.mean(scores)}\\n\")"
   ]
  },
  {
   "cell_type": "markdown",
   "metadata": {
    "cell_id": "25526e7d677d430292c42e2ead5da48f",
    "deepnote_cell_type": "text-cell-p",
    "formattedRanges": []
   },
   "source": [
    "C used for feature selection: 0.1\n",
    "CV accuracy: 0.7802293118887504"
   ]
  },
  {
   "cell_type": "markdown",
   "metadata": {
    "cell_id": "f05cb556ac2c4c1ab7ad0fb06ff3cf80",
    "deepnote_cell_type": "text-cell-p",
    "formattedRanges": []
   },
   "source": [
    "C used for feature selection: 1\n",
    "CV accuracy: 0.8424086527487578"
   ]
  },
  {
   "cell_type": "markdown",
   "metadata": {
    "cell_id": "875fe6c49c55451d9e022dbd10771471",
    "deepnote_cell_type": "text-cell-p",
    "formattedRanges": []
   },
   "source": [
    "C used for feature selection: 10\n",
    "CV accuracy: 0.838268396748196"
   ]
  },
  {
   "cell_type": "markdown",
   "metadata": {
    "cell_id": "89682108ecfb4e559b36e2cfb1c7fabc",
    "deepnote_cell_type": "text-cell-p",
    "formattedRanges": []
   },
   "source": [
    "From the above, for unregularized multinomial logistic regression, using the largest set of features gives the greatest validation accuracy."
   ]
  },
  {
   "cell_type": "markdown",
   "metadata": {
    "cell_id": "e97ed7d8458f476b84776a345b37e387",
    "deepnote_cell_type": "text-cell-h3",
    "formattedRanges": []
   },
   "source": [
    "### Regularization Gridsearch"
   ]
  },
  {
   "cell_type": "markdown",
   "metadata": {
    "cell_id": "75d30d9680604e80b3adaec315709901",
    "deepnote_cell_type": "text-cell-p",
    "formattedRanges": []
   },
   "source": [
    "For this section we reduce the size of the Gridsearch, and lower the maximum iteration limit, due to computational constraints."
   ]
  },
  {
   "cell_type": "code",
   "execution_count": null,
   "metadata": {
    "cell_id": "bcc49c67cfe64e4ea52928a9d6710345",
    "deepnote_cell_type": "code",
    "execution_context_id": "37f26dc3-b74d-4996-9829-fde0042c92ef",
    "execution_millis": 386370,
    "execution_start": 1747008117952,
    "source_hash": "e1a4fd27"
   },
   "outputs": [
    {
     "name": "stdout",
     "output_type": "stream",
     "text": [
      "C used for feature selection:  0.1\n",
      "{'C': 1, 'penalty': 'l1', 'solver': 'saga'}\n",
      "0.7956279739434271 \n",
      "\n",
      "C used for feature selection:  1\n",
      "{'C': 10, 'l1_ratio': 0.5, 'penalty': 'elasticnet', 'solver': 'saga'}\n",
      "0.8317700560110968 \n",
      "\n"
     ]
    }
   ],
   "source": [
    "# NOTE: Runtime for this cell > 10 minutes.\n",
    "# Outputs in markdown below for reproducibility of optimal models\n",
    "\n",
    "param_grid = [\n",
    "    {\n",
    "        'penalty': ['l1'],\n",
    "        'C': [0.1, 1, 10],\n",
    "        'solver': ['saga'],\n",
    "    },\n",
    "    {\n",
    "        'penalty': ['l2'],\n",
    "        'C': [0.1, 1, 10],\n",
    "        'solver': ['saga'],\n",
    "    },\n",
    "    {\n",
    "        'penalty': ['elasticnet'],\n",
    "        'C': [0.1, 1, 10],\n",
    "        'l1_ratio': [0.25, 0.5, 0.75],\n",
    "        'solver': ['saga'],\n",
    "    }\n",
    "]\n",
    "\n",
    "multi_grid_dict = {}\n",
    "\n",
    "for c, features in features_dict.items():\n",
    "    model = LogisticRegression(max_iter=10000, solver=\"saga\")\n",
    "    grid = GridSearchCV(model, param_grid, cv=5)\n",
    "    grid.fit(X_train_full[features], y_train_multi)\n",
    "\n",
    "    multi_grid_dict[c] = grid\n",
    "\n",
    "    print(\"C used for feature selection: \", c)\n",
    "    print(grid.best_params_)\n",
    "    print(grid.best_score_, \"\\n\")"
   ]
  },
  {
   "cell_type": "markdown",
   "metadata": {
    "cell_id": "093afe31ef764ce6b70dc109510c60ba",
    "deepnote_cell_type": "text-cell-p",
    "formattedRanges": []
   },
   "source": [
    "C used for feature selection:  0.1\n",
    "{'C': 1, 'penalty': 'l1', 'solver': 'saga'}\n",
    "0.7956279739434271 "
   ]
  },
  {
   "cell_type": "markdown",
   "metadata": {
    "cell_id": "3e261e73b2af4573bf599b27f2bc5e72",
    "deepnote_cell_type": "text-cell-p",
    "formattedRanges": []
   },
   "source": [
    "C used for feature selection:  1\n",
    "{'C': 10, 'l1_ratio': 0.5, 'penalty': 'elasticnet', 'solver': 'saga'}\n",
    "0.8317700560110968 "
   ]
  },
  {
   "cell_type": "markdown",
   "metadata": {
    "cell_id": "bbbd36bf8cb44c2398ab601ea3d87c26",
    "deepnote_cell_type": "text-cell-p",
    "formattedRanges": []
   },
   "source": [
    "C used for feature selection:  10\n",
    "{'C': 10, 'penalty': 'l1', 'solver': 'saga'}\n",
    "0.8453777676329605 "
   ]
  },
  {
   "cell_type": "markdown",
   "metadata": {
    "cell_id": "eb4c41e775a14983b1c361a7d452522d",
    "deepnote_cell_type": "text-cell-p",
    "formattedRanges": [
     {
      "fromCodePoint": 0,
      "marks": {
       "bold": true
      },
      "toCodePoint": 99,
      "type": "marks"
     }
    ]
   },
   "source": [
    "Optimal parameters: C used for feature selection:  10, {'C': 10, 'penalty': 'l1', 'solver': 'saga'}"
   ]
  },
  {
   "cell_type": "markdown",
   "metadata": {
    "cell_id": "7d15f68e4e5e4a5a9291ad3b079b8d43",
    "deepnote_cell_type": "text-cell-h1",
    "formattedRanges": []
   },
   "source": [
    "# Test Evaluations"
   ]
  },
  {
   "cell_type": "code",
   "execution_count": null,
   "metadata": {
    "cell_id": "5351c8bbac8c497e9a948287cf1537af",
    "deepnote_cell_type": "code",
    "execution_context_id": "37f26dc3-b74d-4996-9829-fde0042c92ef",
    "execution_millis": 0,
    "execution_start": 1747008504382,
    "source_hash": "f91e033d"
   },
   "outputs": [],
   "source": [
    "from sklearn.metrics import (\n",
    "    confusion_matrix, classification_report,\n",
    "    accuracy_score, precision_score, recall_score, f1_score\n",
    ")"
   ]
  },
  {
   "cell_type": "markdown",
   "metadata": {
    "cell_id": "267febe19d674dd78680d9e96404f1a9",
    "deepnote_cell_type": "text-cell-h2",
    "formattedRanges": []
   },
   "source": [
    "## Logistic Regression"
   ]
  },
  {
   "cell_type": "code",
   "execution_count": null,
   "metadata": {
    "cell_id": "ca2458669992463f90397956bfd8c10a",
    "deepnote_cell_type": "code",
    "execution_context_id": "37f26dc3-b74d-4996-9829-fde0042c92ef",
    "execution_millis": 810,
    "execution_start": 1747008504442,
    "source_hash": "6265dfb3"
   },
   "outputs": [],
   "source": [
    "final_bin_lr = LogisticRegression(penalty=\"elasticnet\", C=1, l1_ratio=0.75, max_iter=10000, solver=\"saga\")\n",
    "final_bin_features = features_dict[10]\n",
    "\n",
    "final_bin_lr.fit(X_train_full[final_bin_features], y_train_bin)\n",
    "\n",
    "y_pred = final_bin_lr.predict(X_test_full[final_bin_features])\n",
    "\n",
    "print(confusion_matrix(y_test_bin, y_pred))\n",
    "\n",
    "print(\"Accuracy:\", accuracy_score(y_test_bin, y_pred))\n",
    "print(\"Precision:\", precision_score(y_test_bin, y_pred))\n",
    "print(\"Recall:\", recall_score(y_test_bin, y_pred))\n",
    "print(\"F1 Score:\", f1_score(y_test_bin, y_pred))\n",
    "\n",
    "print(classification_report(y_test_bin, y_pred))\n"
   ]
  },
  {
   "cell_type": "code",
   "execution_count": null,
   "metadata": {
    "cell_id": "41248e538c434e4686599bd0d3d6c439",
    "deepnote_cell_type": "code",
    "execution_context_id": "37f26dc3-b74d-4996-9829-fde0042c92ef",
    "execution_millis": 1,
    "execution_start": 1747008505312,
    "source_hash": "94786a6"
   },
   "outputs": [],
   "source": [
    "# Regression Coefficients for Binomial Model\n",
    "coefficients = final_bin_lr.coef_[0]\n",
    "importance = pd.DataFrame({\n",
    "    'Variable': X_train_full[final_bin_features].columns,\n",
    "    'Coefficient': coefficients,\n",
    "    'Absolute Coefficient': np.abs(coefficients)\n",
    "})\n",
    "important_vars = importance.sort_values(by='Absolute Coefficient', ascending=False)\n",
    "\n",
    "important_vars"
   ]
  },
  {
   "cell_type": "code",
   "execution_count": null,
   "metadata": {
    "cell_id": "53e83f5641c04a7090c6098524c1e76e",
    "deepnote_cell_type": "code",
    "execution_context_id": "37f26dc3-b74d-4996-9829-fde0042c92ef",
    "execution_millis": 186,
    "execution_start": 1747008505362,
    "source_hash": "9fd4e3e3"
   },
   "outputs": [],
   "source": [
    "# ROC Curve for Binomial Model\n",
    "from sklearn.metrics import roc_curve, auc\n",
    "\n",
    "y_probs = final_bin_lr.predict_proba(X_test_full[final_bin_features])[:, 1]\n",
    "\n",
    "fpr, tpr, thresholds = roc_curve(y_test_bin, y_probs)\n",
    "roc_auc = auc(fpr, tpr)\n",
    "\n",
    "plt.figure(figsize=(8, 6))\n",
    "plt.plot(fpr, tpr, color='darkorange', lw=2, label=f'ROC curve (AUC = {roc_auc:.2f})')\n",
    "plt.plot([0, 1], [0, 1], color='navy', lw=2, linestyle='--')\n",
    "plt.xlabel('False Positive Rate')\n",
    "plt.ylabel('True Positive Rate')\n",
    "plt.title('Receiver Operating Characteristic Curve - Binary Model')\n",
    "plt.legend(loc='lower right')\n",
    "plt.grid()\n",
    "plt.show()"
   ]
  },
  {
   "cell_type": "markdown",
   "metadata": {
    "cell_id": "915b71a41e764de7b68bc2732a8460d5",
    "deepnote_cell_type": "text-cell-p",
    "formattedRanges": []
   },
   "source": [
    "Not many notes here, on the binary case our chosen logistic regression model has strong performance across the board."
   ]
  },
  {
   "cell_type": "markdown",
   "metadata": {
    "cell_id": "40dae7fb6f394c60857426e50108894a",
    "deepnote_cell_type": "text-cell-h2",
    "formattedRanges": []
   },
   "source": [
    "## Multinomial Regression"
   ]
  },
  {
   "cell_type": "code",
   "execution_count": null,
   "metadata": {
    "cell_id": "6199f7ed91544fa3a692356cc14324a3",
    "deepnote_cell_type": "code",
    "execution_context_id": "37f26dc3-b74d-4996-9829-fde0042c92ef",
    "execution_millis": 9561,
    "execution_start": 1747008505602,
    "source_hash": "b779cd83"
   },
   "outputs": [],
   "source": [
    "final_multi_lr = LogisticRegression(penalty=\"l1\", C=10, max_iter=10000, multi_class=\"multinomial\", solver=\"saga\")\n",
    "final_multi_features = features_dict[10]\n",
    "\n",
    "final_multi_lr.fit(X_train_full[final_multi_features], y_train_multi)\n",
    "\n",
    "y_pred = final_multi_lr.predict(X_test_full[final_multi_features])\n",
    "\n",
    "print(confusion_matrix(y_test_multi, y_pred))\n",
    "\n",
    "print(\"Accuracy:\", accuracy_score(y_test_multi, y_pred))\n",
    "\n",
    "print(classification_report(y_test_multi, y_pred))"
   ]
  },
  {
   "cell_type": "markdown",
   "metadata": {
    "cell_id": "387115e18270494c878ad5fcf8dbd774",
    "deepnote_cell_type": "text-cell-p",
    "formattedRanges": []
   },
   "source": [
    "Final model is extremely impressive at Obese and Insufficient Weight cases, but struggles on the more moderate Normal Weight and Overweight categories."
   ]
  },
  {
   "cell_type": "markdown",
   "metadata": {
    "cell_id": "760945f52ccc4b26a0642fce746e837d",
    "deepnote_cell_type": "text-cell-p",
    "formattedRanges": []
   },
   "source": [
    "Practically speaking, this is not a bad thing. The model should prioritize classifying high risk individuals."
   ]
  },
  {
   "cell_type": "code",
   "execution_count": null,
   "metadata": {
    "cell_id": "1ece9e6500d94e05aeb62c7df00f969c",
    "deepnote_cell_type": "code",
    "execution_context_id": "37f26dc3-b74d-4996-9829-fde0042c92ef",
    "execution_millis": 1,
    "execution_start": 1747008515222,
    "source_hash": "a26dbbfb"
   },
   "outputs": [],
   "source": [
    "# Regression Coefficients for Multinomial Model\n",
    "coefficients = final_multi_lr.coef_[0]\n",
    "importance = pd.DataFrame({\n",
    "    'Variable': X_train_full[final_multi_features].columns,\n",
    "    'Coefficient': coefficients,\n",
    "    'Absolute Coefficient': np.abs(coefficients)\n",
    "})\n",
    "important_vars = importance.sort_values(by='Absolute Coefficient', ascending=False)\n",
    "\n",
    "important_vars"
   ]
  }
 ],
 "metadata": {
  "deepnote_notebook_id": "e37e1e626a0144549ee5c9a505d9bc6c",
  "deepnote_persisted_session": {
   "createdAt": "2025-05-11T22:25:15.880Z"
  },
  "kernelspec": {
   "display_name": "Python [conda env:base] *",
   "language": "python",
   "name": "conda-base-py"
  },
  "language_info": {
   "codemirror_mode": {
    "name": "ipython",
    "version": 3
   },
   "file_extension": ".py",
   "mimetype": "text/x-python",
   "name": "python",
   "nbconvert_exporter": "python",
   "pygments_lexer": "ipython3",
   "version": "3.12.7"
  }
 },
 "nbformat": 4,
 "nbformat_minor": 4
}
