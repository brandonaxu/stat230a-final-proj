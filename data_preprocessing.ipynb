{
 "cells": [
  {
   "cell_type": "code",
   "execution_count": 46,
   "metadata": {
    "cell_id": "ead5c87419914a2da2120c705bbc088d",
    "deepnote_cell_type": "code",
    "execution_context_id": "6d8c51af-9468-4f20-a8e2-4842190fb81a",
    "execution_millis": 3070,
    "execution_start": 1747007762822,
    "source_hash": "1f815141"
   },
   "outputs": [
    {
     "name": "stdout",
     "output_type": "stream",
     "text": [
      "Requirement already satisfied: ucimlrepo in /opt/anaconda3/lib/python3.12/site-packages (0.0.7)\n",
      "Requirement already satisfied: pandas>=1.0.0 in /opt/anaconda3/lib/python3.12/site-packages (from ucimlrepo) (2.2.3)\n",
      "Requirement already satisfied: certifi>=2020.12.5 in /opt/anaconda3/lib/python3.12/site-packages (from ucimlrepo) (2025.1.31)\n",
      "Requirement already satisfied: numpy>=1.26.0 in /opt/anaconda3/lib/python3.12/site-packages (from pandas>=1.0.0->ucimlrepo) (1.26.4)\n",
      "Requirement already satisfied: python-dateutil>=2.8.2 in /opt/anaconda3/lib/python3.12/site-packages (from pandas>=1.0.0->ucimlrepo) (2.9.0.post0)\n",
      "Requirement already satisfied: pytz>=2020.1 in /opt/anaconda3/lib/python3.12/site-packages (from pandas>=1.0.0->ucimlrepo) (2024.1)\n",
      "Requirement already satisfied: tzdata>=2022.7 in /opt/anaconda3/lib/python3.12/site-packages (from pandas>=1.0.0->ucimlrepo) (2023.3)\n",
      "Requirement already satisfied: six>=1.5 in /opt/anaconda3/lib/python3.12/site-packages (from python-dateutil>=2.8.2->pandas>=1.0.0->ucimlrepo) (1.16.0)\n"
     ]
    }
   ],
   "source": [
    "import pandas as pd\n",
    "import numpy as np\n",
    "import matplotlib.pyplot as plt\n",
    "import seaborn as sns\n",
    "!pip install ucimlrepo"
   ]
  },
  {
   "cell_type": "markdown",
   "metadata": {
    "cell_id": "23d414c63dd349a0bb71f6e1ff62f18e",
    "deepnote_cell_type": "text-cell-h1",
    "formattedRanges": []
   },
   "source": [
    "# Pre-Processing"
   ]
  },
  {
   "cell_type": "markdown",
   "metadata": {
    "cell_id": "d7f4e9c5e28c4511a5c1ad178761ead2",
    "deepnote_cell_type": "text-cell-p",
    "formattedRanges": []
   },
   "source": [
    "Based on the paper associated with the Dataset, "
   ]
  },
  {
   "cell_type": "markdown",
   "metadata": {
    "cell_id": "70a5dd6d88574bf2ba50b08ae4c09570",
    "deepnote_cell_type": "markdown"
   },
   "source": [
    "$$\\text{Mass Body Index} = \\frac{\\text{Weight}}{(\\text{Height}^2)}$$"
   ]
  },
  {
   "cell_type": "markdown",
   "metadata": {
    "cell_id": "cec44ffd13ee4d25987c5b428bf1610b",
    "deepnote_cell_type": "text-cell-p",
    "formattedRanges": []
   },
   "source": [
    "And the following guidelines based on the mass body index were used to classify individuals' obesity level:"
   ]
  },
  {
   "cell_type": "markdown",
   "metadata": {
    "cell_id": "a4ccca1f9a1e4ddf9403c7418e05cd1f",
    "deepnote_cell_type": "text-cell-p",
    "formattedRanges": []
   },
   "source": [
    "\u0001 Underweight Less than 18.5 \n",
    "\u0001 Normal 18.5 to 24.9\n",
    "\u0001 Overweight 25.0 to 29.9\n",
    "\u0001 Obesity I 30.0 to 34.9\n",
    "\u0001 Obesity II 35.0 to 39.9\n",
    "\u0001 Obesity III Higher than 40"
   ]
  },
  {
   "cell_type": "markdown",
   "metadata": {
    "cell_id": "b8c2fb3e617f49aeae40e63bfc6c8cbe",
    "deepnote_cell_type": "text-cell-p",
    "formattedRanges": [
     {
      "fromCodePoint": 204,
      "ranges": [],
      "toCodePoint": 290,
      "type": "link",
      "url": "https://www.frontiersin.org/journals/big-data/articles/10.3389/fdata.2024.1469981/full"
     }
    ]
   },
   "source": [
    "For this reason, introducing both weight and height as covariates trivializes the problem. For the duration of our project, we assume weight is known but height is not, following the setup in this paper: https://www.frontiersin.org/journals/big-data/articles/10.3389/fdata.2024.1469981/full"
   ]
  },
  {
   "cell_type": "code",
   "execution_count": 54,
   "metadata": {
    "cell_id": "7cd5925525cc4e7d9c76a6d6b307eb9f",
    "deepnote_cell_type": "code",
    "execution_context_id": "6d8c51af-9468-4f20-a8e2-4842190fb81a",
    "execution_millis": 1936,
    "execution_start": 1747007765942,
    "source_hash": "8b20b63e"
   },
   "outputs": [],
   "source": [
    "from ucimlrepo import fetch_ucirepo \n",
    "  \n",
    "estimation_of_obesity_levels_based_on_eating_habits_and_physical_condition = fetch_ucirepo(id=544) \n",
    "\n",
    "X = estimation_of_obesity_levels_based_on_eating_habits_and_physical_condition.data.features \n",
    "\n",
    "# Since Height and Weight directly define the Mass Body Index -> Obesity Classification, we remove Height.\n",
    "X = X[[col for col in X.columns if col not in [\"Height\"]]]\n",
    "\n",
    "y = estimation_of_obesity_levels_based_on_eating_habits_and_physical_condition.data.targets"
   ]
  },
  {
   "cell_type": "code",
   "execution_count": 55,
   "metadata": {
    "cell_id": "8f4fd52937454a27a13ee21273663c6c",
    "deepnote_cell_type": "code",
    "execution_context_id": "6d8c51af-9468-4f20-a8e2-4842190fb81a",
    "execution_millis": 1,
    "execution_start": 1747007767932,
    "source_hash": "79d0c995"
   },
   "outputs": [],
   "source": [
    "numerical_cols = [\"Age\", \"FCVC\", \"NCP\", \"CH2O\", \"FAF\", \"TUE\", \"Weight\"]\n",
    "categorical_cols = [col for col in X.columns if col not in numerical_cols]"
   ]
  },
  {
   "cell_type": "markdown",
   "metadata": {
    "cell_id": "4e3fe27b8da840e496c815d569b925c4",
    "deepnote_cell_type": "text-cell-p",
    "formattedRanges": []
   },
   "source": [
    "Below we encode the response variable in two ways: "
   ]
  },
  {
   "cell_type": "markdown",
   "metadata": {
    "cell_id": "e8b89ebe931c4fb6b7ab1f6b0dea4065",
    "deepnote_app_block_visible": false,
    "deepnote_cell_type": "text-cell-bullet",
    "formattedRanges": [],
    "is_collapsed": false
   },
   "source": [
    "- Binary label: 1 if a unit is considered obese at any level, 0 otherwise"
   ]
  },
  {
   "cell_type": "markdown",
   "metadata": {
    "cell_id": "2421b53634884c0c8eb3c08baabf54f4",
    "deepnote_app_block_visible": false,
    "deepnote_cell_type": "text-cell-bullet",
    "formattedRanges": [],
    "is_collapsed": false
   },
   "source": [
    "- Multinomial label: the original categories"
   ]
  },
  {
   "cell_type": "code",
   "execution_count": 61,
   "metadata": {
    "cell_id": "c29cdccd416f47f1a76a2ecfc4e3bd94",
    "deepnote_cell_type": "code",
    "execution_context_id": "6d8c51af-9468-4f20-a8e2-4842190fb81a",
    "execution_millis": 32,
    "execution_start": 1747007767992,
    "source_hash": "2e358bff"
   },
   "outputs": [],
   "source": [
    "from sklearn.model_selection import train_test_split\n",
    "# Train-test split - note: conduct this first before all pre-processing because all pre processing should be based on the train set ONLY (avoid data leakage)\n",
    "X_train, X_test, y_train, y_test = train_test_split(X, y, test_size=0.2, random_state=42)\n",
    "\n",
    "# Binary classification\n",
    "\n",
    "y_train_bin = y_train.isin([\"Obesity_Type_I\", \"Obesity_Type_III\", \"Obesity_Type_II\"]).rename(columns={\"NObeyesdad\": \"is_obese\"})[\"is_obese\"]\n",
    "y_test_bin = y_test.isin([\"Obesity_Type_I\", \"Obesity_Type_III\", \"Obesity_Type_II\"]).rename(columns={\"NObeyesdad\": \"is_obese\"})[\"is_obese\"]\n",
    "\n",
    "# Multiclass classification\n",
    "\n",
    "y_train_multi = y_train[\"NObeyesdad\"].rename(\"obesity_category\")\n",
    "y_test_multi = y_test[\"NObeyesdad\"].rename(\"obesity_category\")"
   ]
  },
  {
   "cell_type": "code",
   "execution_count": 63,
   "metadata": {
    "cell_id": "5a84e9deba1d48afaa7d876e5f7eb22c",
    "deepnote_cell_type": "code",
    "execution_context_id": "6d8c51af-9468-4f20-a8e2-4842190fb81a",
    "execution_millis": 227,
    "execution_start": 1747007768072,
    "source_hash": "fb7a6a37"
   },
   "outputs": [],
   "source": [
    "# Save to CSV\n",
    "y_train_bin.to_csv(\"y_train_bin.csv\", index=False)"
   ]
  },
  {
   "cell_type": "code",
   "execution_count": 65,
   "metadata": {
    "cell_id": "bcba1dc9efb341839f562aec0530eb10",
    "deepnote_cell_type": "code",
    "execution_context_id": "6d8c51af-9468-4f20-a8e2-4842190fb81a",
    "execution_millis": 165,
    "execution_start": 1747007768352,
    "source_hash": "aa2ded09"
   },
   "outputs": [],
   "source": [
    "# Save to CSV\n",
    "y_test_bin.to_csv(\"y_test_bin.csv\", index=False)"
   ]
  },
  {
   "cell_type": "code",
   "execution_count": 67,
   "metadata": {
    "cell_id": "e742684a02044c62b0465046616b3dd3",
    "deepnote_cell_type": "code",
    "execution_context_id": "6d8c51af-9468-4f20-a8e2-4842190fb81a",
    "execution_millis": 171,
    "execution_start": 1747007768572,
    "source_hash": "a2f4eebe"
   },
   "outputs": [],
   "source": [
    "# Save to CSV\n",
    "y_train_multi.to_csv(\"y_train_multi.csv\", index=False)"
   ]
  },
  {
   "cell_type": "code",
   "execution_count": 69,
   "metadata": {
    "cell_id": "dfd278bdc0724b7faee8d72fc3198da2",
    "deepnote_cell_type": "code",
    "execution_context_id": "6d8c51af-9468-4f20-a8e2-4842190fb81a",
    "execution_millis": 144,
    "execution_start": 1747007768792,
    "source_hash": "bf91989b"
   },
   "outputs": [],
   "source": [
    "# Save to CSV\n",
    "y_test_multi.to_csv(\"y_test_multi.csv\", index=False)"
   ]
  },
  {
   "cell_type": "code",
   "execution_count": 71,
   "metadata": {
    "cell_id": "f8627a186652425da354f1a3c657d074",
    "deepnote_cell_type": "code",
    "execution_context_id": "6d8c51af-9468-4f20-a8e2-4842190fb81a",
    "execution_millis": 8,
    "execution_start": 1747007768992,
    "source_hash": "b269c38a"
   },
   "outputs": [],
   "source": [
    "from sklearn.preprocessing import PolynomialFeatures\n",
    "from sklearn.preprocessing import FunctionTransformer\n",
    "from sklearn.compose import ColumnTransformer\n",
    "from sklearn.preprocessing import StandardScaler, OneHotEncoder"
   ]
  },
  {
   "cell_type": "code",
   "execution_count": 73,
   "metadata": {
    "cell_id": "1cf3349699894ae38b9afb35de60619e",
    "deepnote_cell_type": "code",
    "execution_context_id": "6d8c51af-9468-4f20-a8e2-4842190fb81a",
    "execution_millis": 0,
    "execution_start": 1747007769052,
    "source_hash": "79d0c995"
   },
   "outputs": [],
   "source": [
    "numerical_cols = [\"Age\", \"FCVC\", \"NCP\", \"CH2O\", \"FAF\", \"TUE\", \"Weight\"]\n",
    "categorical_cols = [col for col in X.columns if col not in numerical_cols]"
   ]
  },
  {
   "cell_type": "markdown",
   "metadata": {
    "cell_id": "ab5eed1b694f4b879a33fc73e522dd18",
    "deepnote_cell_type": "text-cell-p",
    "formattedRanges": []
   },
   "source": [
    "For each numerical feature:"
   ]
  },
  {
   "cell_type": "markdown",
   "metadata": {
    "cell_id": "3c11a317499a448493fa803a7c33ba3c",
    "deepnote_cell_type": "text-cell-bullet",
    "formattedRanges": []
   },
   "source": [
    "- Add log of feature"
   ]
  },
  {
   "cell_type": "markdown",
   "metadata": {
    "cell_id": "b40a168c6efb475fac76a25b9c22056e",
    "deepnote_cell_type": "text-cell-bullet",
    "formattedRanges": []
   },
   "source": [
    "- Add exponent of feature"
   ]
  },
  {
   "cell_type": "markdown",
   "metadata": {
    "cell_id": "61a5ca3cebbb451f993bfade33928643",
    "deepnote_cell_type": "text-cell-bullet",
    "formattedRanges": []
   },
   "source": [
    "- Add all possible degree 2 combinations of the features including non-interaction features (ex. Age * FCVC, or Age^2)"
   ]
  },
  {
   "cell_type": "markdown",
   "metadata": {
    "cell_id": "623a948dbd764a72bc1c20a1f188b9b4",
    "deepnote_cell_type": "text-cell-p",
    "formattedRanges": []
   },
   "source": [
    "The idea is that we can generate a reasonable set of possible features and use methods like LASSO regression or Recursive Feature Elimination to narrow them down. In practice, we use LASSO for speed purposes (RFE mainly used for non-linear models). "
   ]
  },
  {
   "cell_type": "code",
   "execution_count": 80,
   "metadata": {
    "cell_id": "b06185802f5141629b301cdd89f86fd7",
    "deepnote_cell_type": "code",
    "execution_context_id": "6d8c51af-9468-4f20-a8e2-4842190fb81a",
    "execution_millis": 0,
    "execution_start": 1747007769103,
    "source_hash": "a1af0987"
   },
   "outputs": [],
   "source": [
    "# ============================= LOG + EXP TRANSFORMATIONS ==================================================\n",
    "\n",
    "# Create transformations for log, exp columns\n",
    "log_transformer = FunctionTransformer(np.log1p)\n",
    "exp_transformer = FunctionTransformer(np.exp)\n",
    "\n",
    "# Create column transformation pipeline (apply exp, log)\n",
    "column_transformer = ColumnTransformer([\n",
    "    ('log_age', log_transformer, numerical_cols),\n",
    "    ('exp_age', exp_transformer, numerical_cols),\n",
    "], remainder='passthrough')\n",
    "\n",
    "# Transform training and test sets (apply exp, log)\n",
    "X_logexp_train_arr = column_transformer.fit_transform(X_train)\n",
    "X_logexp_test_arr = column_transformer.transform(X_test)\n",
    "\n",
    "# Generate exp, log, column names\n",
    "log_names = [f\"log1p_{col}\" for col in numerical_cols]\n",
    "exp_names = [f\"exp_{col}\" for col in numerical_cols]\n",
    "passthrough_cols = [col for col in X_train.columns if col not in numerical_cols]\n",
    "transform_cols = log_names + exp_names + passthrough_cols\n",
    "\n",
    "# Create exp, log dataframes for both train and test\n",
    "X_logexp_train_df = pd.DataFrame(X_logexp_train_arr, columns=transform_cols, index=X_train.index)\n",
    "X_logexp_test_df = pd.DataFrame(X_logexp_test_arr, columns=transform_cols, index=X_test.index)\n",
    "\n",
    "# ============================= POLYNOMIAL TRANSFORMATIONS ==================================================\n",
    "\n",
    "# Create sklearn polynomial features object (automatically will create poly features based on arguments)\n",
    "poly = PolynomialFeatures(degree=(2, 2), include_bias=False)\n",
    "\n",
    "# Transform training and test sets (apply poly features)\n",
    "X_poly_train_arr = poly.fit_transform(X_train[numerical_cols])\n",
    "X_poly_test_arr = poly.transform(X_test[numerical_cols])\n",
    "\n",
    "# Generate poly feature names\n",
    "poly_feature_names = poly.get_feature_names_out(numerical_cols)\n",
    "\n",
    "# Create poly dataframes for both train and test\n",
    "X_poly_train_df = pd.DataFrame(X_poly_train_arr, columns=poly_feature_names, index=X_train.index)\n",
    "X_poly_test_df = pd.DataFrame(X_poly_test_arr, columns=poly_feature_names, index=X_test.index)\n",
    "\n",
    "# ============================= COMBINE ALL FEATURES ==================================================\n",
    "\n",
    "# Combine all features - X_train has original, X_poly has polynomials, X_logexp has log and exp\n",
    "X_train_long = pd.concat([X_train, X_poly_train_df, X_logexp_train_df], axis=1)\n",
    "X_test_long = pd.concat([X_test, X_poly_test_df, X_logexp_test_df], axis=1)"
   ]
  },
  {
   "cell_type": "code",
   "execution_count": 86,
   "metadata": {
    "cell_id": "29e916b5a4ea4b208c8b05ed1e357f65",
    "deepnote_cell_type": "code",
    "execution_context_id": "6d8c51af-9468-4f20-a8e2-4842190fb81a",
    "execution_millis": 1,
    "execution_start": 1747007769172,
    "source_hash": "a13c8a76"
   },
   "outputs": [],
   "source": [
    "# One-hot encoding for categorical features, and standardization of numerical features\n",
    "one_hot_encoder = OneHotEncoder(sparse_output=False, drop='first')\n",
    "scaler = StandardScaler()\n",
    "# Numerical columns, including generated features, for standardization\n",
    "extended_numerical_cols = [col for col in X_train_long.columns if col not in categorical_cols]\n",
    "\n",
    "# One-hot encode categorical features and standardize numerical features for training set\n",
    "X_train_dummies = pd.DataFrame(one_hot_encoder.fit_transform(X_train[categorical_cols]), columns=one_hot_encoder.get_feature_names_out())\n",
    "X_train_std_numerical = pd.DataFrame(scaler.fit_transform(X_train_long[extended_numerical_cols]), columns=extended_numerical_cols)\n",
    "X_train_full = pd.concat([X_train_std_numerical, X_train_dummies], axis=1)\n",
    "\n",
    "# One-hot encode categorical features and standardize numerical features for test set\n",
    "X_test_dummies = pd.DataFrame(one_hot_encoder.transform(X_test[categorical_cols]), columns=one_hot_encoder.get_feature_names_out())\n",
    "X_test_std_numerical = pd.DataFrame(scaler.transform(X_test_long[extended_numerical_cols]), columns=extended_numerical_cols)\n",
    "X_test_full = pd.concat([X_test_std_numerical, X_test_dummies], axis=1)"
   ]
  },
  {
   "cell_type": "code",
   "execution_count": 88,
   "metadata": {
    "cell_id": "9af3dc256b4b47f4a84f617c858e4572",
    "deepnote_cell_type": "code",
    "execution_context_id": "6d8c51af-9468-4f20-a8e2-4842190fb81a",
    "execution_millis": 1,
    "execution_start": 1747007769222,
    "source_hash": "a5625fea"
   },
   "outputs": [
    {
     "data": {
      "text/plain": [
       "(1688, 64)"
      ]
     },
     "execution_count": 88,
     "metadata": {},
     "output_type": "execute_result"
    }
   ],
   "source": [
    "X_train_full.shape # 64 features to work with"
   ]
  },
  {
   "cell_type": "code",
   "execution_count": 90,
   "metadata": {
    "cell_id": "d9f958ee9baf40f9a7aba6777e421bc7",
    "deepnote_cell_type": "code",
    "execution_context_id": "6d8c51af-9468-4f20-a8e2-4842190fb81a",
    "execution_millis": 326,
    "execution_start": 1747007769272,
    "source_hash": "e0a7861e"
   },
   "outputs": [],
   "source": [
    "# Save to CSV\n",
    "X_train_full.to_csv(\"X_train_full.csv\", index=False)"
   ]
  },
  {
   "cell_type": "code",
   "execution_count": 92,
   "metadata": {
    "cell_id": "839c5aae1a15432490349d810dfee7be",
    "deepnote_cell_type": "code",
    "execution_context_id": "6d8c51af-9468-4f20-a8e2-4842190fb81a",
    "execution_millis": 196,
    "execution_start": 1747007769652,
    "source_hash": "f2b8aafa"
   },
   "outputs": [],
   "source": [
    "# Save to CSV\n",
    "X_test_full.to_csv(\"X_test_full.csv\", index=False)"
   ]
  },
  {
   "cell_type": "markdown",
   "metadata": {
    "cell_id": "191b48fe9b9f4db9b12d6345c70b8129",
    "deepnote_cell_type": "text-cell-h2",
    "formattedRanges": []
   },
   "source": [
    "## Feature Selection"
   ]
  },
  {
   "cell_type": "markdown",
   "metadata": {
    "cell_id": "512cc2825103422ca9092f9e54582eba",
    "deepnote_cell_type": "text-cell-p",
    "formattedRanges": []
   },
   "source": [
    "Use LASSO regression to select features. "
   ]
  },
  {
   "cell_type": "markdown",
   "metadata": {
    "cell_id": "425718901f614a7c87845c3421b8a7da",
    "deepnote_cell_type": "text-cell-p",
    "formattedRanges": []
   },
   "source": [
    "Retrospectively, this may not be necessary, as we apply GridSearchCV later across L1, L2, and Elasticnet penalties, meaning the GridSearch would automatically feature select using L1 based on cross-validated accuracy."
   ]
  },
  {
   "cell_type": "markdown",
   "metadata": {
    "cell_id": "801ab9a5882741f89ffa27ac2c33536f",
    "deepnote_cell_type": "text-cell-p",
    "formattedRanges": []
   },
   "source": [
    "Still, it can speed up computation time by initially getting rid of seemingly useless features."
   ]
  },
  {
   "cell_type": "code",
   "execution_count": 98,
   "metadata": {
    "cell_id": "07ef223dbe1343a480c9ea06b16b44cc",
    "deepnote_cell_type": "code",
    "execution_context_id": "6d8c51af-9468-4f20-a8e2-4842190fb81a",
    "execution_millis": 209,
    "execution_start": 1747007769902,
    "source_hash": "af35732f"
   },
   "outputs": [],
   "source": [
    "from sklearn.linear_model import LogisticRegression"
   ]
  },
  {
   "cell_type": "code",
   "execution_count": 100,
   "metadata": {
    "cell_id": "e2595c722a4f43a9a0b8cf715863a085",
    "deepnote_cell_type": "code",
    "execution_context_id": "6d8c51af-9468-4f20-a8e2-4842190fb81a",
    "execution_millis": 33807,
    "execution_start": 1747007770162,
    "source_hash": "3eada595"
   },
   "outputs": [
    {
     "name": "stderr",
     "output_type": "stream",
     "text": [
      "/opt/anaconda3/lib/python3.12/site-packages/sklearn/linear_model/_logistic.py:1247: FutureWarning: 'multi_class' was deprecated in version 1.5 and will be removed in 1.7. From then on, it will always use 'multinomial'. Leave it to its default value to avoid this warning.\n",
      "  warnings.warn(\n",
      "/opt/anaconda3/lib/python3.12/site-packages/sklearn/linear_model/_logistic.py:1247: FutureWarning: 'multi_class' was deprecated in version 1.5 and will be removed in 1.7. From then on, it will always use 'multinomial'. Leave it to its default value to avoid this warning.\n",
      "  warnings.warn(\n",
      "/opt/anaconda3/lib/python3.12/site-packages/sklearn/linear_model/_logistic.py:1247: FutureWarning: 'multi_class' was deprecated in version 1.5 and will be removed in 1.7. From then on, it will always use 'multinomial'. Leave it to its default value to avoid this warning.\n",
      "  warnings.warn(\n"
     ]
    }
   ],
   "source": [
    "c_arr = [0.1, 1, 10]\n",
    "\n",
    "features_dict = {}\n",
    "\n",
    "# For each regularization strength, apply LASSO and retrieve non-zero features\n",
    "for C in c_arr:\n",
    "    lr = LogisticRegression(penalty=\"l1\", solver=\"saga\", C=C, multi_class=\"multinomial\", max_iter=10000)\n",
    "    lr.fit(X_train_full, y_train_multi)\n",
    "\n",
    "    features_dict[C] = X_train_full.columns[lr.coef_[0] != 0]"
   ]
  },
  {
   "cell_type": "code",
   "execution_count": 101,
   "metadata": {
    "cell_id": "9fa5765bd2e94b3fb60fcef8ac91c43c",
    "deepnote_cell_type": "code",
    "execution_context_id": "6d8c51af-9468-4f20-a8e2-4842190fb81a",
    "execution_millis": 1,
    "execution_start": 1747007804022,
    "source_hash": "a7a35486"
   },
   "outputs": [
    {
     "data": {
      "text/plain": [
       "{0.1: Index(['FCVC^2', 'FCVC NCP', 'FCVC CH2O', 'NCP FAF', 'NCP TUE', 'log1p_Age',\n",
       "        'log1p_Weight', 'exp_NCP', 'Gender_Male', 'CAEC_Frequently'],\n",
       "       dtype='object'),\n",
       " 1: Index(['Age', 'Weight', 'Age^2', 'Age Weight', 'FCVC^2', 'FCVC CH2O',\n",
       "        'FCVC FAF', 'FCVC TUE', 'FCVC Weight', 'NCP FAF', 'NCP TUE',\n",
       "        'NCP Weight', 'CH2O FAF', 'CH2O TUE', 'TUE^2', 'log1p_FCVC',\n",
       "        'log1p_CH2O', 'log1p_TUE', 'log1p_Weight', 'exp_FCVC', 'exp_CH2O',\n",
       "        'exp_FAF', 'Gender_Male', 'FAVC_yes', 'CAEC_Frequently',\n",
       "        'CAEC_Sometimes', 'SCC_yes', 'CALC_Frequently',\n",
       "        'MTRANS_Public_Transportation'],\n",
       "       dtype='object'),\n",
       " 10: Index(['Age', 'Weight', 'FAF', 'TUE', 'Age^2', 'Age FCVC', 'Age NCP',\n",
       "        'Age CH2O', 'Age FAF', 'Age Weight', 'FCVC^2', 'FCVC NCP', 'FCVC CH2O',\n",
       "        'FCVC FAF', 'FCVC TUE', 'FCVC Weight', 'NCP^2', 'NCP CH2O', 'NCP FAF',\n",
       "        'NCP TUE', 'NCP Weight', 'CH2O^2', 'CH2O FAF', 'CH2O TUE',\n",
       "        'CH2O Weight', 'FAF^2', 'FAF TUE', 'FAF Weight', 'TUE^2', 'TUE Weight',\n",
       "        'log1p_Age', 'log1p_FCVC', 'log1p_NCP', 'log1p_CH2O', 'log1p_FAF',\n",
       "        'log1p_TUE', 'log1p_Weight', 'exp_NCP', 'exp_FAF', 'Gender_Male',\n",
       "        'family_history_with_overweight_yes', 'FAVC_yes', 'CAEC_Frequently',\n",
       "        'CAEC_Sometimes', 'CAEC_no', 'SMOKE_yes', 'SCC_yes', 'CALC_Frequently',\n",
       "        'CALC_Sometimes', 'CALC_no', 'MTRANS_Bike', 'MTRANS_Motorbike',\n",
       "        'MTRANS_Public_Transportation', 'MTRANS_Walking'],\n",
       "       dtype='object')}"
      ]
     },
     "execution_count": 101,
     "metadata": {},
     "output_type": "execute_result"
    }
   ],
   "source": [
    "# 0.1 = strongest regularization, most minimal set of features\n",
    "# 1 = second strongest regularization, moderate set of features\n",
    "# 10 = least regularization, most features\n",
    "\n",
    "features_dict"
   ]
  }
 ],
 "metadata": {
  "deepnote_notebook_id": "f4cd22b76006433695a3120af77b2877",
  "kernelspec": {
   "display_name": "Python [conda env:base] *",
   "language": "python",
   "name": "conda-base-py"
  },
  "language_info": {
   "codemirror_mode": {
    "name": "ipython",
    "version": 3
   },
   "file_extension": ".py",
   "mimetype": "text/x-python",
   "name": "python",
   "nbconvert_exporter": "python",
   "pygments_lexer": "ipython3",
   "version": "3.12.7"
  }
 },
 "nbformat": 4,
 "nbformat_minor": 4
}
